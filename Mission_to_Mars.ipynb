{
 "cells": [
  {
   "cell_type": "code",
   "execution_count": 40,
   "metadata": {},
   "outputs": [],
   "source": [
    "from bs4 import BeautifulSoup as bs\n",
    "import requests\n",
    "import pandas as pd\n",
    "from splinter import Browser\n",
    "import pymongo\n",
    "from flask import Flask, render_template, redirect\n",
    "from flask_pymongo import PyMongo"
   ]
  },
  {
   "cell_type": "code",
   "execution_count": 41,
   "metadata": {},
   "outputs": [],
   "source": [
    "executable_path = {'executable_path': 'Desktop\\chromedriver.exe'}\n",
    "browser = Browser('chrome', **executable_path, headless=False)"
   ]
  },
  {
   "cell_type": "code",
   "execution_count": 3,
   "metadata": {},
   "outputs": [],
   "source": [
    "url_titleandparagraph = 'https://mars.nasa.gov/news/'\n",
    "browser.visit(url_titleandparagraph)"
   ]
  },
  {
   "cell_type": "code",
   "execution_count": 4,
   "metadata": {},
   "outputs": [],
   "source": [
    "html = browser.html\n",
    "soup = bs(html, 'html.parser')"
   ]
  },
  {
   "cell_type": "code",
   "execution_count": 5,
   "metadata": {},
   "outputs": [],
   "source": [
    "news_title = soup.title.text.strip()"
   ]
  },
  {
   "cell_type": "code",
   "execution_count": 6,
   "metadata": {},
   "outputs": [
    {
     "name": "stdout",
     "output_type": "stream",
     "text": [
      "News  – NASA’s Mars Exploration Program\n"
     ]
    }
   ],
   "source": [
    "print(news_title)"
   ]
  },
  {
   "cell_type": "code",
   "execution_count": 7,
   "metadata": {},
   "outputs": [
    {
     "name": "stdout",
     "output_type": "stream",
     "text": [
      "New evidence suggests salty, shallow ponds once dotted a Martian crater — a sign of the planet's drying climate.\n"
     ]
    }
   ],
   "source": [
    "news_paragraphs = soup.find('div', class_=\"article_teaser_body\")\n",
    "\n",
    "news_paragraphs = news_paragraphs.text.strip()\n",
    "print(news_paragraphs)"
   ]
  },
  {
   "cell_type": "code",
   "execution_count": 48,
   "metadata": {},
   "outputs": [],
   "source": [
    "url_featuredimages = 'https://www.jpl.nasa.gov/spaceimages/?search=&category=Mars'\n",
    "browser.visit(url_featuredimages)    "
   ]
  },
  {
   "cell_type": "code",
   "execution_count": 49,
   "metadata": {},
   "outputs": [],
   "source": [
    "html = browser.html\n",
    "soup = bs(html, 'html.parser')"
   ]
  },
  {
   "cell_type": "code",
   "execution_count": 44,
   "metadata": {
    "scrolled": true
   },
   "outputs": [
    {
     "name": "stdout",
     "output_type": "stream",
     "text": [
      "<article alt=\"A Splendor Seldom Seen\" class=\"carousel_item\" style=\"background-image: url('/spaceimages/images/wallpaper/PIA14934-1920x1200.jpg');\">\n",
      "<div class=\"default floating_text_area ms-layer\">\n",
      "<h2 class=\"category_title\">\n",
      "</h2>\n",
      "<h2 class=\"brand_title\">\n",
      "\t\t\t\t  FEATURED IMAGE\n",
      "\t\t\t\t</h2>\n",
      "<h1 class=\"media_feature_title\">\n",
      "\t\t\t\t  A Splendor Seldom Seen\t\t\t\t</h1>\n",
      "<div class=\"description\">\n",
      "</div>\n",
      "<footer>\n",
      "<a class=\"button fancybox\" data-description=\"NASA's Cassini spacecraft has delivered a glorious view of Saturn, taken while the spacecraft was in Saturn's shadow. The cameras were turned toward Saturn and the sun so that the planet and rings are backlit.\" data-fancybox-group=\"images\" data-fancybox-href=\"/spaceimages/images/mediumsize/PIA14934_ip.jpg\" data-link=\"/spaceimages/details.php?id=PIA14934\" data-title=\"A Splendor Seldom Seen\" id=\"full_image\">\n",
      "\t\t\t\t\tFULL IMAGE\n",
      "\t\t\t\t  </a>\n",
      "</footer>\n",
      "</div>\n",
      "<div class=\"gradient_container_top\"></div>\n",
      "<div class=\"gradient_container_bottom\"></div>\n",
      "</article>\n"
     ]
    }
   ],
   "source": [
    "#so this isn't helpful?\n",
    "featured_image_url = soup.find('article', class_= \"carousel_item\")\n",
    "print(featured_image_url)"
   ]
  },
  {
   "cell_type": "code",
   "execution_count": 68,
   "metadata": {},
   "outputs": [
    {
     "name": "stdout",
     "output_type": "stream",
     "text": [
      "<img alt=\"Possible Mud Cracks Preserved in Martian Rock\" src=\"//imagecache.jpl.nasa.gov/images/640x350/pia21261-16-640x350.jpg\"/>\n"
     ]
    }
   ],
   "source": [
    "#clean out jpg here\n",
    "featuredimage = soup.find_all('img')[69]\n",
    "print(featuredimage)"
   ]
  },
  {
   "cell_type": "markdown",
   "metadata": {},
   "source": [
    "#so what's this? Not helpful code\n",
    "featured = browser.find_by_tag('article')\n",
    "print(featured)"
   ]
  },
  {
   "cell_type": "code",
   "execution_count": 69,
   "metadata": {},
   "outputs": [],
   "source": [
    "url_marsweather = 'https://twitter.com/marswxreport?lang=en'\n",
    "browser.visit(url_marsweather)   \n",
    "html = browser.html\n",
    "soup = bs(html, 'html.parser')"
   ]
  },
  {
   "cell_type": "code",
   "execution_count": 70,
   "metadata": {},
   "outputs": [
    {
     "name": "stdout",
     "output_type": "stream",
     "text": [
      "<div class=\"AdaptiveMedia-photoContainer js-adaptive-photo\" data-dominant-color=\"[50,50,64]\" data-element-context=\"platform_photo_card\" data-image-url=\"https://pbs.twimg.com/media/EGi46dxX0AIXKu1.jpg\" style=\"background-color:rgba(50,50,64,1.0);\">\n",
      "<img alt=\"\" data-aria-label-part=\"\" src=\"https://pbs.twimg.com/media/EGi46dxX0AIXKu1.jpg\" style=\"width: 100%; top: -0px;\"/>\n",
      "</div>\n"
     ]
    }
   ],
   "source": [
    "#need to strip out jpg url\n",
    "mars_weather = soup.find('div', class_= \"AdaptiveMedia-photoContainer js-adaptive-photo\")\n",
    "print(mars_weather)"
   ]
  },
  {
   "cell_type": "code",
   "execution_count": 75,
   "metadata": {},
   "outputs": [
    {
     "name": "stdout",
     "output_type": "stream",
     "text": [
      "<img alt=\"\" src=\"https://pbs.twimg.com/media/EGi46dxX0AIXKu1.jpg:thumb\" style=\"height: 83px; width: 83px; margin-left: 0px; margin-top: 0px;\"/>\n"
     ]
    }
   ],
   "source": [
    "#clean out jpg here\n",
    "weather_image = soup.find_all('img')[4]\n",
    "print(weather_image)"
   ]
  },
  {
   "cell_type": "code",
   "execution_count": 14,
   "metadata": {},
   "outputs": [],
   "source": [
    "url_marsfacts = 'https://space-facts.com/mars/'\n",
    "browser.visit(url_marsfacts)   \n",
    "html = browser.html\n",
    "soup = bs(html, 'html.parser')"
   ]
  },
  {
   "cell_type": "code",
   "execution_count": 15,
   "metadata": {},
   "outputs": [
    {
     "data": {
      "text/plain": [
       "[  Mars - Earth Comparison             Mars            Earth\n",
       " 0               Diameter:         6,779 km        12,742 km\n",
       " 1                   Mass:  6.39 × 10^23 kg  5.97 × 10^24 kg\n",
       " 2                  Moons:                2                1\n",
       " 3      Distance from Sun:   227,943,824 km   149,598,262 km\n",
       " 4         Length of Year:   687 Earth days      365.24 days\n",
       " 5            Temperature:    -153 to 20 °C      -88 to 58°C,\n",
       "                       0                              1\n",
       " 0  Equatorial Diameter:                       6,792 km\n",
       " 1       Polar Diameter:                       6,752 km\n",
       " 2                 Mass:  6.39 × 10^23 kg (0.11 Earths)\n",
       " 3                Moons:            2 (Phobos & Deimos)\n",
       " 4       Orbit Distance:       227,943,824 km (1.38 AU)\n",
       " 5         Orbit Period:           687 days (1.9 years)\n",
       " 6  Surface Temperature:                   -87 to -5 °C\n",
       " 7         First Record:              2nd millennium BC\n",
       " 8          Recorded By:           Egyptian astronomers]"
      ]
     },
     "execution_count": 15,
     "metadata": {},
     "output_type": "execute_result"
    }
   ],
   "source": [
    "#didn't need browser to do this\n",
    "tables = pd.read_html(url_marsfacts)\n",
    "tables"
   ]
  },
  {
   "cell_type": "code",
   "execution_count": 16,
   "metadata": {},
   "outputs": [
    {
     "data": {
      "text/html": [
       "<div>\n",
       "<style scoped>\n",
       "    .dataframe tbody tr th:only-of-type {\n",
       "        vertical-align: middle;\n",
       "    }\n",
       "\n",
       "    .dataframe tbody tr th {\n",
       "        vertical-align: top;\n",
       "    }\n",
       "\n",
       "    .dataframe thead th {\n",
       "        text-align: right;\n",
       "    }\n",
       "</style>\n",
       "<table border=\"1\" class=\"dataframe\">\n",
       "  <thead>\n",
       "    <tr style=\"text-align: right;\">\n",
       "      <th></th>\n",
       "      <th>Mars - Earth Comparison</th>\n",
       "      <th>Mars</th>\n",
       "      <th>Earth</th>\n",
       "    </tr>\n",
       "  </thead>\n",
       "  <tbody>\n",
       "    <tr>\n",
       "      <th>0</th>\n",
       "      <td>Diameter:</td>\n",
       "      <td>6,779 km</td>\n",
       "      <td>12,742 km</td>\n",
       "    </tr>\n",
       "    <tr>\n",
       "      <th>1</th>\n",
       "      <td>Mass:</td>\n",
       "      <td>6.39 × 10^23 kg</td>\n",
       "      <td>5.97 × 10^24 kg</td>\n",
       "    </tr>\n",
       "    <tr>\n",
       "      <th>2</th>\n",
       "      <td>Moons:</td>\n",
       "      <td>2</td>\n",
       "      <td>1</td>\n",
       "    </tr>\n",
       "    <tr>\n",
       "      <th>3</th>\n",
       "      <td>Distance from Sun:</td>\n",
       "      <td>227,943,824 km</td>\n",
       "      <td>149,598,262 km</td>\n",
       "    </tr>\n",
       "    <tr>\n",
       "      <th>4</th>\n",
       "      <td>Length of Year:</td>\n",
       "      <td>687 Earth days</td>\n",
       "      <td>365.24 days</td>\n",
       "    </tr>\n",
       "  </tbody>\n",
       "</table>\n",
       "</div>"
      ],
      "text/plain": [
       "  Mars - Earth Comparison             Mars            Earth\n",
       "0               Diameter:         6,779 km        12,742 km\n",
       "1                   Mass:  6.39 × 10^23 kg  5.97 × 10^24 kg\n",
       "2                  Moons:                2                1\n",
       "3      Distance from Sun:   227,943,824 km   149,598,262 km\n",
       "4         Length of Year:   687 Earth days      365.24 days"
      ]
     },
     "execution_count": 16,
     "metadata": {},
     "output_type": "execute_result"
    }
   ],
   "source": [
    "df = tables[0]\n",
    "df.columns = ['Mars - Earth Comparison', 'Mars', 'Earth']\n",
    "df.head()"
   ]
  },
  {
   "cell_type": "code",
   "execution_count": 17,
   "metadata": {},
   "outputs": [
    {
     "data": {
      "text/html": [
       "<div>\n",
       "<style scoped>\n",
       "    .dataframe tbody tr th:only-of-type {\n",
       "        vertical-align: middle;\n",
       "    }\n",
       "\n",
       "    .dataframe tbody tr th {\n",
       "        vertical-align: top;\n",
       "    }\n",
       "\n",
       "    .dataframe thead th {\n",
       "        text-align: right;\n",
       "    }\n",
       "</style>\n",
       "<table border=\"1\" class=\"dataframe\">\n",
       "  <thead>\n",
       "    <tr style=\"text-align: right;\">\n",
       "      <th></th>\n",
       "      <th>Mars</th>\n",
       "      <th>Earth</th>\n",
       "    </tr>\n",
       "    <tr>\n",
       "      <th>Mars - Earth Comparison</th>\n",
       "      <th></th>\n",
       "      <th></th>\n",
       "    </tr>\n",
       "  </thead>\n",
       "  <tbody>\n",
       "    <tr>\n",
       "      <th>Diameter:</th>\n",
       "      <td>6,779 km</td>\n",
       "      <td>12,742 km</td>\n",
       "    </tr>\n",
       "    <tr>\n",
       "      <th>Mass:</th>\n",
       "      <td>6.39 × 10^23 kg</td>\n",
       "      <td>5.97 × 10^24 kg</td>\n",
       "    </tr>\n",
       "    <tr>\n",
       "      <th>Moons:</th>\n",
       "      <td>2</td>\n",
       "      <td>1</td>\n",
       "    </tr>\n",
       "    <tr>\n",
       "      <th>Distance from Sun:</th>\n",
       "      <td>227,943,824 km</td>\n",
       "      <td>149,598,262 km</td>\n",
       "    </tr>\n",
       "    <tr>\n",
       "      <th>Length of Year:</th>\n",
       "      <td>687 Earth days</td>\n",
       "      <td>365.24 days</td>\n",
       "    </tr>\n",
       "  </tbody>\n",
       "</table>\n",
       "</div>"
      ],
      "text/plain": [
       "                                    Mars            Earth\n",
       "Mars - Earth Comparison                                  \n",
       "Diameter:                       6,779 km        12,742 km\n",
       "Mass:                    6.39 × 10^23 kg  5.97 × 10^24 kg\n",
       "Moons:                                 2                1\n",
       "Distance from Sun:        227,943,824 km   149,598,262 km\n",
       "Length of Year:           687 Earth days      365.24 days"
      ]
     },
     "execution_count": 17,
     "metadata": {},
     "output_type": "execute_result"
    }
   ],
   "source": [
    "df.set_index('Mars - Earth Comparison', inplace=True)\n",
    "df.head()"
   ]
  },
  {
   "cell_type": "code",
   "execution_count": 22,
   "metadata": {},
   "outputs": [],
   "source": [
    "#Image dict start here\n",
    "url_hemispherecerberus = 'https://astrogeology.usgs.gov/search/map/Mars/Viking/cerberus_enhanced'\n",
    "browser.visit(url_hemispherecerberus)   \n",
    "html = browser.html\n",
    "soup = bs(html, 'html.parser')"
   ]
  },
  {
   "cell_type": "code",
   "execution_count": 26,
   "metadata": {},
   "outputs": [
    {
     "name": "stdout",
     "output_type": "stream",
     "text": [
      "[<div class=\"downloads\">\n",
      "<img class=\"thumb\" src=\"/cache/images/dfaf3849e74bf973b59eb50dab52b583_cerberus_enhanced.tif_thumb.png\"/>\n",
      "<h3>Download</h3>\n",
      "<ul>\n",
      "<li><a href=\"http://astropedia.astrogeology.usgs.gov/download/Mars/Viking/cerberus_enhanced.tif/full.jpg\" target=\"_blank\">Sample</a> (jpg) 1024px wide</li>\n",
      "<li><a href=\"http://astropedia.astrogeology.usgs.gov/download/Mars/Viking/cerberus_enhanced.tif\" target=\"_blank\">Original</a> (tif<span class=\"tooltip word-tif\" title=\"\"></span>) 21 MB</li>\n",
      "</ul>\n",
      "</div>]\n"
     ]
    }
   ],
   "source": [
    "#General section the target is in\n",
    "testline = soup.find_all('div', class_='downloads')\n",
    "print(testline)"
   ]
  },
  {
   "cell_type": "code",
   "execution_count": 31,
   "metadata": {},
   "outputs": [
    {
     "name": "stdout",
     "output_type": "stream",
     "text": [
      "<li><a href=\"http://astropedia.astrogeology.usgs.gov/download/Mars/Viking/cerberus_enhanced.tif/full.jpg\" target=\"_blank\">Sample</a> (jpg) 1024px wide</li>\n"
     ]
    }
   ],
   "source": [
    "\n",
    "cerberusimage = soup.find_all('li')[0]\n",
    "print(cerberusimage)"
   ]
  },
  {
   "cell_type": "code",
   "execution_count": 32,
   "metadata": {},
   "outputs": [
    {
     "name": "stdout",
     "output_type": "stream",
     "text": [
      "Cerberus Hemisphere Enhanced | USGS Astrogeology Science Center\n"
     ]
    }
   ],
   "source": [
    "cerberustitle = soup.title.text.strip()\n",
    "print(cerberustitle)"
   ]
  },
  {
   "cell_type": "code",
   "execution_count": 34,
   "metadata": {},
   "outputs": [
    {
     "name": "stdout",
     "output_type": "stream",
     "text": [
      "<li><a href=\"http://astropedia.astrogeology.usgs.gov/download/Mars/Viking/schiaparelli_enhanced.tif/full.jpg\" target=\"_blank\">Sample</a> (jpg) 1024px wide</li>\n"
     ]
    }
   ],
   "source": [
    "url_schiaparelli = 'https://astrogeology.usgs.gov/search/map/Mars/Viking/schiaparelli_enhanced'\n",
    "browser.visit(url_schiaparelli)   \n",
    "html = browser.html\n",
    "soup = bs(html, 'html.parser')\n",
    "#General section the target is in\n",
    "schiaparelli_image = soup.find_all('li')[0]\n",
    "print(schiaparelli_image)"
   ]
  },
  {
   "cell_type": "code",
   "execution_count": 35,
   "metadata": {},
   "outputs": [
    {
     "name": "stdout",
     "output_type": "stream",
     "text": [
      "Schiaparelli Hemisphere Enhanced | USGS Astrogeology Science Center\n"
     ]
    }
   ],
   "source": [
    "schiaparellititle = soup.title.text.strip()\n",
    "print(schiaparellititle)"
   ]
  },
  {
   "cell_type": "code",
   "execution_count": 36,
   "metadata": {},
   "outputs": [
    {
     "name": "stdout",
     "output_type": "stream",
     "text": [
      "<li><a href=\"http://astropedia.astrogeology.usgs.gov/download/Mars/Viking/syrtis_major_enhanced.tif/full.jpg\" target=\"_blank\">Sample</a> (jpg) 1024px wide</li>\n"
     ]
    }
   ],
   "source": [
    "url_syrtis_major = 'https://astrogeology.usgs.gov/search/map/Mars/Viking/syrtis_major_enhanced'\n",
    "browser.visit(url_syrtis_major)   \n",
    "html = browser.html\n",
    "soup = bs(html, 'html.parser')\n",
    "#General section the target is in\n",
    "syrtis_major_image = soup.find_all('li')[0]\n",
    "print(syrtis_major_image)"
   ]
  },
  {
   "cell_type": "code",
   "execution_count": 37,
   "metadata": {},
   "outputs": [
    {
     "name": "stdout",
     "output_type": "stream",
     "text": [
      "Syrtis Major Hemisphere Enhanced | USGS Astrogeology Science Center\n"
     ]
    }
   ],
   "source": [
    "syrtis_majortitle = soup.title.text.strip()\n",
    "print(syrtis_majortitle)"
   ]
  },
  {
   "cell_type": "code",
   "execution_count": 38,
   "metadata": {},
   "outputs": [
    {
     "name": "stdout",
     "output_type": "stream",
     "text": [
      "<li><a href=\"http://astropedia.astrogeology.usgs.gov/download/Mars/Viking/valles_marineris_enhanced.tif/full.jpg\" target=\"_blank\">Sample</a> (jpg) 1024px wide</li>\n"
     ]
    }
   ],
   "source": [
    "url_valles_marineris = 'https://astrogeology.usgs.gov/search/map/Mars/Viking/valles_marineris_enhanced'\n",
    "browser.visit(url_valles_marineris)   \n",
    "html = browser.html\n",
    "soup = bs(html, 'html.parser')\n",
    "#General section the target is in\n",
    "valles_marineris_image = soup.find_all('li')[0]\n",
    "print(valles_marineris_image)"
   ]
  },
  {
   "cell_type": "code",
   "execution_count": 39,
   "metadata": {},
   "outputs": [
    {
     "name": "stdout",
     "output_type": "stream",
     "text": [
      "Valles Marineris Hemisphere Enhanced | USGS Astrogeology Science Center\n"
     ]
    }
   ],
   "source": [
    "valles_marineristitle = soup.title.text.strip()\n",
    "print(valles_marineristitle)"
   ]
  },
  {
   "cell_type": "code",
   "execution_count": null,
   "metadata": {},
   "outputs": [],
   "source": []
  }
 ],
 "metadata": {
  "kernelspec": {
   "display_name": "Python 3",
   "language": "python",
   "name": "python3"
  },
  "language_info": {
   "codemirror_mode": {
    "name": "ipython",
    "version": 3
   },
   "file_extension": ".py",
   "mimetype": "text/x-python",
   "name": "python",
   "nbconvert_exporter": "python",
   "pygments_lexer": "ipython3",
   "version": "3.7.3"
  }
 },
 "nbformat": 4,
 "nbformat_minor": 2
}
